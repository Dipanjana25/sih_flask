{
 "cells": [
  {
   "cell_type": "code",
   "execution_count": 6,
   "id": "9728b366",
   "metadata": {},
   "outputs": [
    {
     "ename": "ModuleNotFoundError",
     "evalue": "No module named 'cohere'",
     "output_type": "error",
     "traceback": [
      "\u001b[0;31m---------------------------------------------------------------------------\u001b[0m",
      "\u001b[0;31mModuleNotFoundError\u001b[0m                       Traceback (most recent call last)",
      "Cell \u001b[0;32mIn[6], line 3\u001b[0m\n\u001b[1;32m      1\u001b[0m \u001b[38;5;28;01mimport\u001b[39;00m \u001b[38;5;21;01mre\u001b[39;00m\n\u001b[0;32m----> 3\u001b[0m \u001b[38;5;28;01mimport\u001b[39;00m \u001b[38;5;21;01mcohere\u001b[39;00m\n\u001b[1;32m      4\u001b[0m \u001b[38;5;28;01mimport\u001b[39;00m \u001b[38;5;21;01mnumpy\u001b[39;00m \u001b[38;5;28;01mas\u001b[39;00m \u001b[38;5;21;01mnp\u001b[39;00m\n\u001b[1;32m      5\u001b[0m \u001b[38;5;28;01mimport\u001b[39;00m \u001b[38;5;21;01mpandas\u001b[39;00m \u001b[38;5;28;01mas\u001b[39;00m \u001b[38;5;21;01mpd\u001b[39;00m\n",
      "\u001b[0;31mModuleNotFoundError\u001b[0m: No module named 'cohere'"
     ]
    }
   ],
   "source": [
    "import re\n",
    "\n",
    "import cohere\n",
    "import numpy as np\n",
    "import pandas as pd\n",
    "import altair as alt\n",
    "from annoy import AnnoyIndex\n",
    "from datasets import load_dataset\n",
    "from sklearn.metrics.pairwise import cosine_similarity\n",
    "from rapidfuzz import fuzz"
   ]
  },
  {
   "cell_type": "code",
   "execution_count": 8,
   "id": "e77894e4",
   "metadata": {},
   "outputs": [
    {
     "name": "stdout",
     "output_type": "stream",
     "text": [
      "<class 'pandas.core.frame.DataFrame'>\n",
      "Index: 492 entries, 0 to 492\n",
      "Data columns (total 1 columns):\n",
      " #   Column      Non-Null Count  Dtype \n",
      "---  ------      --------------  ----- \n",
      " 0   ascii_name  492 non-null    object\n",
      "dtypes: object(1)\n",
      "memory usage: 7.7+ KB\n"
     ]
    },
    {
     "data": {
      "text/html": [
       "<div>\n",
       "<style scoped>\n",
       "    .dataframe tbody tr th:only-of-type {\n",
       "        vertical-align: middle;\n",
       "    }\n",
       "\n",
       "    .dataframe tbody tr th {\n",
       "        vertical-align: top;\n",
       "    }\n",
       "\n",
       "    .dataframe thead th {\n",
       "        text-align: right;\n",
       "    }\n",
       "</style>\n",
       "<table border=\"1\" class=\"dataframe\">\n",
       "  <thead>\n",
       "    <tr style=\"text-align: right;\">\n",
       "      <th></th>\n",
       "      <th>ascii_name</th>\n",
       "    </tr>\n",
       "  </thead>\n",
       "  <tbody>\n",
       "    <tr>\n",
       "      <th>0</th>\n",
       "      <td>Abohar</td>\n",
       "    </tr>\n",
       "    <tr>\n",
       "      <th>1</th>\n",
       "      <td>Achalpur</td>\n",
       "    </tr>\n",
       "    <tr>\n",
       "      <th>2</th>\n",
       "      <td>Adilabad</td>\n",
       "    </tr>\n",
       "    <tr>\n",
       "      <th>3</th>\n",
       "      <td>Adityapur</td>\n",
       "    </tr>\n",
       "    <tr>\n",
       "      <th>4</th>\n",
       "      <td>Adoni</td>\n",
       "    </tr>\n",
       "  </tbody>\n",
       "</table>\n",
       "</div>"
      ],
      "text/plain": [
       "   ascii_name\n",
       "0     Abohar \n",
       "1   Achalpur \n",
       "2   Adilabad \n",
       "3  Adityapur \n",
       "4      Adoni "
      ]
     },
     "execution_count": 8,
     "metadata": {},
     "output_type": "execute_result"
    }
   ],
   "source": [
    "df=pd.read_csv(\"data-set/cities_r2.csv\")\n",
    "df=df[\"ascii_name\"]\n",
    "df=df.drop_duplicates()\n",
    "df=df.dropna()\n",
    "df=df.to_frame(name=\"ascii_name\")\n",
    "df.info()\n",
    "df.head()"
   ]
  },
  {
   "cell_type": "code",
   "execution_count": 9,
   "id": "70d73865",
   "metadata": {},
   "outputs": [
    {
     "ename": "NameError",
     "evalue": "name 'co_client' is not defined",
     "output_type": "error",
     "traceback": [
      "\u001b[0;31m---------------------------------------------------------------------------\u001b[0m",
      "\u001b[0;31mNameError\u001b[0m                                 Traceback (most recent call last)",
      "Cell \u001b[0;32mIn[9], line 1\u001b[0m\n\u001b[0;32m----> 1\u001b[0m embeds \u001b[38;5;241m=\u001b[39m co_client\u001b[38;5;241m.\u001b[39membed(\n\u001b[1;32m      2\u001b[0m     texts\u001b[38;5;241m=\u001b[39m\u001b[38;5;28mlist\u001b[39m(df[\u001b[38;5;124m'\u001b[39m\u001b[38;5;124mascii_name\u001b[39m\u001b[38;5;124m'\u001b[39m]),\n\u001b[1;32m      3\u001b[0m     model\u001b[38;5;241m=\u001b[39m\u001b[38;5;124m'\u001b[39m\u001b[38;5;124mlarge\u001b[39m\u001b[38;5;124m'\u001b[39m,\n\u001b[1;32m      4\u001b[0m     truncate\u001b[38;5;241m=\u001b[39m\u001b[38;5;124m'\u001b[39m\u001b[38;5;124mRIGHT\u001b[39m\u001b[38;5;124m'\u001b[39m\n\u001b[1;32m      5\u001b[0m )\u001b[38;5;241m.\u001b[39membeddings\n\u001b[1;32m      7\u001b[0m embeds \u001b[38;5;241m=\u001b[39m np\u001b[38;5;241m.\u001b[39marray(embeds)\n\u001b[1;32m      8\u001b[0m Debug: \u001b[38;5;28mprint\u001b[39m(embeds\u001b[38;5;241m.\u001b[39mshape)\n",
      "\u001b[0;31mNameError\u001b[0m: name 'co_client' is not defined"
     ]
    }
   ],
   "source": [
    "embeds = co_client.embed(\n",
    "    texts=list(df['ascii_name']),\n",
    "    model='large',\n",
    "    truncate='RIGHT'\n",
    ").embeddings\n",
    "\n",
    "embeds = np.array(embeds)\n",
    "Debug: print(embeds.shape) "
   ]
  },
  {
   "cell_type": "code",
   "execution_count": null,
   "id": "40912767",
   "metadata": {},
   "outputs": [],
   "source": [
    "search_index = AnnoyIndex(embeds.shape[1], 'angular')\n",
    "for i in range(len(embeds)):\n",
    "    search_index.add_item(i, embeds[i])\n",
    "\n",
    "search_index.build(10)\n",
    "search_index.save('test.ann')"
   ]
  },
  {
   "cell_type": "code",
   "execution_count": null,
   "id": "9e9e8688",
   "metadata": {},
   "outputs": [],
   "source": [
    "EXAMPLE_ID = 69  # Nice\n",
    "NUM_NEIGHBORS = 30\n",
    "QUERY = \"Gajiabad\"   #  Write your own query here(Eg: What is the oldest profession?).\n",
    "\n",
    "query_embed = co_client.embed(\n",
    "    texts = [QUERY],\n",
    "    model = 'large',\n",
    "    truncate='RIGHT'\n",
    ").embeddings\n",
    "\n",
    "similar_item_ids = search_index.get_nns_by_vector(\n",
    "    query_embed[0], NUM_NEIGHBORS, include_distances=True)\n",
    "\n",
    "results = pd.DataFrame(\n",
    "    data={\n",
    "        'texts': df.iloc[similar_item_ids[0]]['ascii_name'],\n",
    "        'distance': similar_item_ids[1],\n",
    "    }\n",
    ")\n",
    "\n",
    "print(f\"The Question is : {QUERY}\")\n",
    "print('The nearest neighbors are : ')\n",
    "results"
   ]
  },
  {
   "cell_type": "code",
   "execution_count": null,
   "id": "ae4d43e2",
   "metadata": {},
   "outputs": [],
   "source": [
    "final=[]\n",
    "for word in results[\"texts\"]:\n",
    "    final.append([(fuzz.ratio(QUERY,word)+fuzz.partial_ratio(QUERY,word))/2,word])\n",
    "final.sort(reverse=True)\n",
    "final\n"
   ]
  },
  {
   "cell_type": "code",
   "execution_count": null,
   "id": "2e5bf536",
   "metadata": {},
   "outputs": [],
   "source": [
    "from pyphonetics import RefinedSoundex\n",
    "rs = RefinedSoundex()\n",
    "final=[]\n",
    "for word in results[\"texts\"]:\n",
    "    final.append([rs.distance(QUERY,word),word])\n",
    "final.sort()\n",
    "final"
   ]
  }
 ],
 "metadata": {
  "kernelspec": {
   "display_name": "venv",
   "language": "python",
   "name": "venv"
  },
  "language_info": {
   "codemirror_mode": {
    "name": "ipython",
    "version": 3
   },
   "file_extension": ".py",
   "mimetype": "text/x-python",
   "name": "python",
   "nbconvert_exporter": "python",
   "pygments_lexer": "ipython3",
   "version": "3.11.5"
  }
 },
 "nbformat": 4,
 "nbformat_minor": 5
}
